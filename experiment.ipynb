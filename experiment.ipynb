{
 "cells": [
  {
   "cell_type": "code",
   "execution_count": 9,
   "id": "8f7b8a91-948b-4a95-8c7a-01ed7442dbfc",
   "metadata": {},
   "outputs": [],
   "source": [
    "import pandas as pd\n",
    "import joblib\n",
    "from sklearn.metrics.pairwise import euclidean_distances\n",
    "import ast\n",
    "\n",
    "class SeedRecommender:\n",
    "    def __init__(self, data_path, scaler_path, main_kmeans_path, sub_kmeans_models_path):\n",
    "        self.df = pd.read_pickle(data_path)\n",
    "        self.X_columns = ['temperature', 'soil_temperature', 'soil_moisture', 'precipitation', 'sunshine_duration', 'humid']\n",
    "\n",
    "        if isinstance(self.df['growing_countries'].iloc[0], str):\n",
    "            try:\n",
    "                self.df['growing_countries'] = self.df['growing_countries'].apply(ast.literal_eval)\n",
    "            except:\n",
    "                print(\"Error parsing growing_countries — check format.\")\n",
    "\n",
    "        self.scaler = joblib.load(scaler_path)\n",
    "        self.main_kmeans = joblib.load(main_kmeans_path)\n",
    "        self.sub_kmeans_models = joblib.load(sub_kmeans_models_path)\n",
    "\n",
    "        self.subcluster_map = {\n",
    "            '0_0': 1, '0_1': 2,\n",
    "            '1_0': 3, '1_1': 4,\n",
    "            '2_0': 5, '2_1': 6,\n",
    "            '3_0': 7, '3_1': 8,\n",
    "        }\n",
    "\n",
    "    def recommend(self, new_data, country=None, top_n=None):\n",
    "        new_scaled = self.scaler.transform([new_data])\n",
    "\n",
    "        main_cluster_id = self.main_kmeans.predict(new_scaled)[0]\n",
    "        sub_cluster_id = self.sub_kmeans_models[main_cluster_id].predict(new_scaled)[0]\n",
    "\n",
    "        cluster_key = f\"{main_cluster_id}_{sub_cluster_id}\"\n",
    "        mapped_cluster_id = self.subcluster_map.get(cluster_key, -1)\n",
    "\n",
    "        seeds_in_cluster = self.df[self.df['main_cluster'] == mapped_cluster_id].copy()\n",
    "\n",
    "        if country:\n",
    "            seeds_in_cluster = seeds_in_cluster[seeds_in_cluster['growing_countries'].apply(\n",
    "                lambda countries: any(country.lower() == c.lower() for c in countries)\n",
    "            )]\n",
    "\n",
    "        if seeds_in_cluster.empty:\n",
    "            return mapped_cluster_id, []\n",
    "\n",
    "        sub_scaled = self.scaler.transform(seeds_in_cluster[self.X_columns])\n",
    "        distances = euclidean_distances(sub_scaled, new_scaled).flatten()\n",
    "        seeds_in_cluster['distance'] = distances\n",
    "        seeds_in_cluster = seeds_in_cluster.sort_values(by='distance')\n",
    "\n",
    "        if top_n is not None:\n",
    "            seeds_in_cluster = seeds_in_cluster.head(top_n)\n",
    "\n",
    "        return mapped_cluster_id, list(zip(seeds_in_cluster['seed_id'], seeds_in_cluster['distance']))\n"
   ]
  },
  {
   "cell_type": "code",
   "execution_count": 10,
   "id": "80a69e0e-2c46-4a41-9db3-5f4e434ba1f7",
   "metadata": {},
   "outputs": [
    {
     "name": "stdout",
     "output_type": "stream",
     "text": [
      "Main Cluster: 7\n",
      "Recommended 3 seed(s):\n",
      "Seed ID: 10, Distance: 0.0000\n",
      "Seed ID: 20621, Distance: 0.0785\n",
      "Seed ID: 6615, Distance: 0.0785\n"
     ]
    },
    {
     "name": "stderr",
     "output_type": "stream",
     "text": [
      "C:\\Users\\shado\\anaconda3\\envs\\gripai\\lib\\site-packages\\sklearn\\utils\\validation.py:2739: UserWarning: X does not have valid feature names, but StandardScaler was fitted with feature names\n",
      "  warnings.warn(\n"
     ]
    }
   ],
   "source": [
    "# Input: 6 features only\n",
    "new_data = [20, 15, 0.3, 800, 5000, 60]\n",
    "user_country = \"\"\n",
    "\n",
    "recommender = SeedRecommender(\n",
    "    data_path='data/model_data.pkl',\n",
    "    scaler_path='models/scaler.joblib',\n",
    "    main_kmeans_path='models/main_kmeans.joblib',\n",
    "    sub_kmeans_models_path='models/sub_kmeans_models.joblib'\n",
    ")\n",
    "\n",
    "cluster_id, recommendations = recommender.recommend(new_data, country=user_country, top_n=3)\n",
    "\n",
    "print(f\"Main Cluster: {cluster_id}\")\n",
    "print(f\"Recommended {len(recommendations)} seed(s):\")\n",
    "for sid, dist in recommendations:\n",
    "    print(f\"Seed ID: {sid}, Distance: {dist:.4f}\")\n"
   ]
  },
  {
   "cell_type": "code",
   "execution_count": null,
   "id": "32102f20-4192-4abc-9d5c-574b6f75c129",
   "metadata": {},
   "outputs": [],
   "source": []
  },
  {
   "cell_type": "code",
   "execution_count": null,
   "id": "4869cab0-c6f4-44ee-821c-84932ca91ead",
   "metadata": {},
   "outputs": [],
   "source": []
  }
 ],
 "metadata": {
  "kernelspec": {
   "display_name": "Python 3 (ipykernel)",
   "language": "python",
   "name": "python3"
  },
  "language_info": {
   "codemirror_mode": {
    "name": "ipython",
    "version": 3
   },
   "file_extension": ".py",
   "mimetype": "text/x-python",
   "name": "python",
   "nbconvert_exporter": "python",
   "pygments_lexer": "ipython3",
   "version": "3.10.16"
  }
 },
 "nbformat": 4,
 "nbformat_minor": 5
}
